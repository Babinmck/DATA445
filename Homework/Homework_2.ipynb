{
 "cells": [
  {
   "cell_type": "markdown",
   "id": "aab3d8ac",
   "metadata": {},
   "source": [
    "Exercise 1"
   ]
  },
  {
   "cell_type": "code",
   "execution_count": null,
   "id": "1694ecea",
   "metadata": {},
   "outputs": [],
   "source": [
    "## c). LOOCV"
   ]
  },
  {
   "cell_type": "markdown",
   "id": "def5006b",
   "metadata": {},
   "source": [
    "Exercise 2"
   ]
  },
  {
   "cell_type": "code",
   "execution_count": null,
   "id": "335fc288",
   "metadata": {},
   "outputs": [],
   "source": [
    "## a). low bias and low variance"
   ]
  },
  {
   "cell_type": "markdown",
   "id": "38acb2eb",
   "metadata": {},
   "source": [
    "Exercise 3"
   ]
  },
  {
   "cell_type": "code",
   "execution_count": null,
   "id": "9341f47c",
   "metadata": {},
   "outputs": [],
   "source": [
    "## b). low bias and high variance"
   ]
  },
  {
   "cell_type": "markdown",
   "id": "3d55781f",
   "metadata": {},
   "source": [
    "Exercise 4"
   ]
  },
  {
   "cell_type": "code",
   "execution_count": null,
   "id": "3b5ed10b",
   "metadata": {},
   "outputs": [],
   "source": [
    "## Regularization are ways to fix or calibrate machine learning models tominimize the adjusting loss function and \n",
    "# to prevent overfitting and underfitting."
   ]
  },
  {
   "cell_type": "markdown",
   "id": "6db92566",
   "metadata": {},
   "source": [
    "Exercise 5"
   ]
  },
  {
   "cell_type": "code",
   "execution_count": 1,
   "id": "fad97fe5",
   "metadata": {},
   "outputs": [
    {
     "data": {
      "text/html": [
       "<div>\n",
       "<style scoped>\n",
       "    .dataframe tbody tr th:only-of-type {\n",
       "        vertical-align: middle;\n",
       "    }\n",
       "\n",
       "    .dataframe tbody tr th {\n",
       "        vertical-align: top;\n",
       "    }\n",
       "\n",
       "    .dataframe thead th {\n",
       "        text-align: right;\n",
       "    }\n",
       "</style>\n",
       "<table border=\"1\" class=\"dataframe\">\n",
       "  <thead>\n",
       "    <tr style=\"text-align: right;\">\n",
       "      <th></th>\n",
       "      <th>male</th>\n",
       "      <th>age</th>\n",
       "      <th>education</th>\n",
       "      <th>currentSmoker</th>\n",
       "      <th>cigsPerDay</th>\n",
       "      <th>BPMeds</th>\n",
       "      <th>prevalentStroke</th>\n",
       "      <th>prevalentHyp</th>\n",
       "      <th>diabetes</th>\n",
       "      <th>totChol</th>\n",
       "      <th>sysBP</th>\n",
       "      <th>diaBP</th>\n",
       "      <th>BMI</th>\n",
       "      <th>heartRate</th>\n",
       "      <th>glucose</th>\n",
       "      <th>TenYearCHD</th>\n",
       "    </tr>\n",
       "  </thead>\n",
       "  <tbody>\n",
       "    <tr>\n",
       "      <th>0</th>\n",
       "      <td>1</td>\n",
       "      <td>39</td>\n",
       "      <td>4.0</td>\n",
       "      <td>0</td>\n",
       "      <td>0.0</td>\n",
       "      <td>0.0</td>\n",
       "      <td>0</td>\n",
       "      <td>0</td>\n",
       "      <td>0</td>\n",
       "      <td>195.0</td>\n",
       "      <td>106.0</td>\n",
       "      <td>70.0</td>\n",
       "      <td>26.97</td>\n",
       "      <td>80.0</td>\n",
       "      <td>77.0</td>\n",
       "      <td>0</td>\n",
       "    </tr>\n",
       "    <tr>\n",
       "      <th>1</th>\n",
       "      <td>0</td>\n",
       "      <td>46</td>\n",
       "      <td>2.0</td>\n",
       "      <td>0</td>\n",
       "      <td>0.0</td>\n",
       "      <td>0.0</td>\n",
       "      <td>0</td>\n",
       "      <td>0</td>\n",
       "      <td>0</td>\n",
       "      <td>250.0</td>\n",
       "      <td>121.0</td>\n",
       "      <td>81.0</td>\n",
       "      <td>28.73</td>\n",
       "      <td>95.0</td>\n",
       "      <td>76.0</td>\n",
       "      <td>0</td>\n",
       "    </tr>\n",
       "    <tr>\n",
       "      <th>2</th>\n",
       "      <td>1</td>\n",
       "      <td>48</td>\n",
       "      <td>1.0</td>\n",
       "      <td>1</td>\n",
       "      <td>20.0</td>\n",
       "      <td>0.0</td>\n",
       "      <td>0</td>\n",
       "      <td>0</td>\n",
       "      <td>0</td>\n",
       "      <td>245.0</td>\n",
       "      <td>127.5</td>\n",
       "      <td>80.0</td>\n",
       "      <td>25.34</td>\n",
       "      <td>75.0</td>\n",
       "      <td>70.0</td>\n",
       "      <td>0</td>\n",
       "    </tr>\n",
       "    <tr>\n",
       "      <th>3</th>\n",
       "      <td>0</td>\n",
       "      <td>61</td>\n",
       "      <td>3.0</td>\n",
       "      <td>1</td>\n",
       "      <td>30.0</td>\n",
       "      <td>0.0</td>\n",
       "      <td>0</td>\n",
       "      <td>1</td>\n",
       "      <td>0</td>\n",
       "      <td>225.0</td>\n",
       "      <td>150.0</td>\n",
       "      <td>95.0</td>\n",
       "      <td>28.58</td>\n",
       "      <td>65.0</td>\n",
       "      <td>103.0</td>\n",
       "      <td>1</td>\n",
       "    </tr>\n",
       "    <tr>\n",
       "      <th>4</th>\n",
       "      <td>0</td>\n",
       "      <td>46</td>\n",
       "      <td>3.0</td>\n",
       "      <td>1</td>\n",
       "      <td>23.0</td>\n",
       "      <td>0.0</td>\n",
       "      <td>0</td>\n",
       "      <td>0</td>\n",
       "      <td>0</td>\n",
       "      <td>285.0</td>\n",
       "      <td>130.0</td>\n",
       "      <td>84.0</td>\n",
       "      <td>23.10</td>\n",
       "      <td>85.0</td>\n",
       "      <td>85.0</td>\n",
       "      <td>0</td>\n",
       "    </tr>\n",
       "  </tbody>\n",
       "</table>\n",
       "</div>"
      ],
      "text/plain": [
       "   male  age  education  currentSmoker  cigsPerDay  BPMeds  prevalentStroke  \\\n",
       "0     1   39        4.0              0         0.0     0.0                0   \n",
       "1     0   46        2.0              0         0.0     0.0                0   \n",
       "2     1   48        1.0              1        20.0     0.0                0   \n",
       "3     0   61        3.0              1        30.0     0.0                0   \n",
       "4     0   46        3.0              1        23.0     0.0                0   \n",
       "\n",
       "   prevalentHyp  diabetes  totChol  sysBP  diaBP    BMI  heartRate  glucose  \\\n",
       "0             0         0    195.0  106.0   70.0  26.97       80.0     77.0   \n",
       "1             0         0    250.0  121.0   81.0  28.73       95.0     76.0   \n",
       "2             0         0    245.0  127.5   80.0  25.34       75.0     70.0   \n",
       "3             1         0    225.0  150.0   95.0  28.58       65.0    103.0   \n",
       "4             0         0    285.0  130.0   84.0  23.10       85.0     85.0   \n",
       "\n",
       "   TenYearCHD  \n",
       "0           0  \n",
       "1           0  \n",
       "2           0  \n",
       "3           1  \n",
       "4           0  "
      ]
     },
     "execution_count": 1,
     "metadata": {},
     "output_type": "execute_result"
    }
   ],
   "source": [
    "import boto3\n",
    "import pandas as pd; pd.set_option('display.max_columns', 100)\n",
    "import numpy as np\n",
    "\n",
    "from sklearn.model_selection import KFold\n",
    "from sklearn.linear_model import LinearRegression\n",
    "\n",
    "## Defining the s3 bucket\n",
    "s3 = boto3.resource('s3')\n",
    "bucket_name = 'mckayla-data-445-bucket'\n",
    "bucket = s3.Bucket(bucket_name)\n",
    "\n",
    "## Defining the file to read from s3 bucket\n",
    "file_key = 'framingham.csv'\n",
    "\n",
    "bucket_object = bucket.Object(file_key)\n",
    "file_object = bucket_object.get()\n",
    "file_content_stream = file_object.get('Body')\n",
    "\n",
    "##Reading the csv file\n",
    "heart = pd.read_csv(file_content_stream)\n",
    "heart.head()"
   ]
  },
  {
   "cell_type": "code",
   "execution_count": 3,
   "id": "86a91f68",
   "metadata": {},
   "outputs": [],
   "source": [
    "## Removing the observations with N/As\n",
    "heart = heart.dropna()"
   ]
  },
  {
   "cell_type": "code",
   "execution_count": 4,
   "id": "ab8e0b2f",
   "metadata": {},
   "outputs": [],
   "source": [
    "from sk.learn.metrics import f1_score\n",
    "\n",
    "X = heart.drop(columns = ['TenYearCHD'], axis = 1)\n",
    "Y = heart['TenYearCHD']\n",
    "             \n",
    "##Defining the folds\n",
    "kf = KFold(n_splits = 5, shuffle = True)\n",
    "\n",
    "##Defining the lists to store results\n",
    "f1_score1 = list()\n",
    "f1_score2 = list()\n",
    "\n",
    "for train_idx, val_idx in kf.split(X):\n",
    "    \n",
    "    ##Splitting the data\n",
    "    X_train, X_val = X.iloc[train_idx], X.iloc[val_idx]\n",
    "    Y_train, Y_val = Y.iloc[train_idx], Y.iloc[val_idx]\n",
    "    \n",
    "    ##Model 1\n",
    "    \n",
    "    X1 = X_train[['age','currentSmoker','totChol','sysBP','diaBP', 'BMI','heartRate','glucose']]\n",
    "    X_val_1 = X_val[['age','currentSmoker','totChol','sysBP','diaBP', 'BMI','heartRate','glucose']]\n",
    "    \n",
    "    ##Building the linear model\n",
    "    md1 = LinearRegression().fit(X1, Y_train)\n",
    "    \n",
    "    ##Predicting ton the validation set\n",
    "    pred1 = md1.predict(X_val_1)\n",
    "    \n",
    "    ##Storing the f1_score\n",
    "    f1_score1\n",
    "    \n",
    "    ##Model 2\n",
    "    \n",
    "    X2 = X_train[['age','currentSmoker','totChol','BMI','heartRate','glucose']]\n",
    "    X_val_2 = X_val[['age','currentSmoker','totChol','BMI','heartRate','glucose']]\n",
    "    \n",
    "    ##Building the linear model\n",
    "    md2 = LinearRegression().fit(X2, Y_train)\n",
    "    \n",
    "    ##Predicting ton the validation set\n",
    "    pred2 = md2.predict(X_val_2)\n",
    "    \n",
    "    ##Storing the f1_score\n",
    "    f1_score2"
   ]
  },
  {
   "cell_type": "code",
   "execution_count": null,
   "id": "c5cd8deb",
   "metadata": {},
   "outputs": [],
   "source": [
    "## Changing likelihoods to labels - 25%\n"
   ]
  },
  {
   "cell_type": "code",
   "execution_count": 5,
   "id": "245941b8",
   "metadata": {},
   "outputs": [
    {
     "name": "stdout",
     "output_type": "stream",
     "text": [
      "The mse of model 1 is 0.11826553231827086\n",
      "The mse of model 2 is 0.12027669499003565\n"
     ]
    }
   ],
   "source": [
    "## Computing the f1_score\n",
    "f1_score1_avg = np.mean(f1_score1)\n",
    "f1_score2_avg = np.mean(f1_score2)\n",
    "\n",
    "print('The f1_score of model 1 is', f1_score1_avg)\n",
    "print('The f1_score of model 2 is', f1_score2_avg)"
   ]
  },
  {
   "cell_type": "code",
   "execution_count": null,
   "id": "cbabf3c3",
   "metadata": {},
   "outputs": [],
   "source": [
    " "
   ]
  }
 ],
 "metadata": {
  "kernelspec": {
   "display_name": "conda_python3",
   "language": "python",
   "name": "conda_python3"
  },
  "language_info": {
   "codemirror_mode": {
    "name": "ipython",
    "version": 3
   },
   "file_extension": ".py",
   "mimetype": "text/x-python",
   "name": "python",
   "nbconvert_exporter": "python",
   "pygments_lexer": "ipython3",
   "version": "3.8.12"
  }
 },
 "nbformat": 4,
 "nbformat_minor": 5
}
