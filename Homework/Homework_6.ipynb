{
 "cells": [
  {
   "cell_type": "markdown",
   "id": "e9dacda4",
   "metadata": {},
   "source": [
    "Exercise 1"
   ]
  },
  {
   "cell_type": "markdown",
   "id": "a200ad47",
   "metadata": {},
   "source": [
    "Exercise 2"
   ]
  },
  {
   "cell_type": "code",
   "execution_count": null,
   "id": "9f4b43c4",
   "metadata": {},
   "outputs": [],
   "source": [
    "## Adaboost uses an iterative approach to learn from the mistakes from weak classifiers and tu"
   ]
  },
  {
   "cell_type": "markdown",
   "id": "872b833e",
   "metadata": {},
   "source": [
    "Exercise 3"
   ]
  },
  {
   "cell_type": "markdown",
   "id": "38150179",
   "metadata": {},
   "source": [
    "Exercise 4"
   ]
  },
  {
   "cell_type": "code",
   "execution_count": null,
   "id": "d16a07ef",
   "metadata": {},
   "outputs": [],
   "source": [
    "## We should fix the weight. "
   ]
  },
  {
   "cell_type": "markdown",
   "id": "6779fb70",
   "metadata": {},
   "source": [
    "Exercise 5"
   ]
  },
  {
   "cell_type": "code",
   "execution_count": null,
   "id": "c75b52c6",
   "metadata": {},
   "outputs": [],
   "source": [
    "## e). All of the above"
   ]
  },
  {
   "cell_type": "markdown",
   "id": "f774bbf0",
   "metadata": {},
   "source": [
    "Exercise 6"
   ]
  },
  {
   "cell_type": "code",
   "execution_count": null,
   "id": "abb2b3fd",
   "metadata": {},
   "outputs": [],
   "source": [
    "## e). a and c"
   ]
  },
  {
   "cell_type": "markdown",
   "id": "afa41a6f",
   "metadata": {},
   "source": [
    "Exercise 7"
   ]
  },
  {
   "cell_type": "code",
   "execution_count": null,
   "id": "dbb2cbd0",
   "metadata": {},
   "outputs": [],
   "source": [
    "## The main difference of AdaBoost and Gradient Boosting is that AdaBoost uses a particular loss function, Gradient Boosting is more flexible as it is a generic algorithm that finds approximate solutions to be added to the modeling problem. "
   ]
  },
  {
   "cell_type": "markdown",
   "id": "84813d8f",
   "metadata": {},
   "source": [
    "Exercise 8"
   ]
  },
  {
   "cell_type": "code",
   "execution_count": 1,
   "id": "04bdebd8",
   "metadata": {},
   "outputs": [
    {
     "data": {
      "text/html": [
       "<div>\n",
       "<style scoped>\n",
       "    .dataframe tbody tr th:only-of-type {\n",
       "        vertical-align: middle;\n",
       "    }\n",
       "\n",
       "    .dataframe tbody tr th {\n",
       "        vertical-align: top;\n",
       "    }\n",
       "\n",
       "    .dataframe thead th {\n",
       "        text-align: right;\n",
       "    }\n",
       "</style>\n",
       "<table border=\"1\" class=\"dataframe\">\n",
       "  <thead>\n",
       "    <tr style=\"text-align: right;\">\n",
       "      <th></th>\n",
       "      <th>male</th>\n",
       "      <th>age</th>\n",
       "      <th>education</th>\n",
       "      <th>currentSmoker</th>\n",
       "      <th>cigsPerDay</th>\n",
       "      <th>BPMeds</th>\n",
       "      <th>prevalentStroke</th>\n",
       "      <th>prevalentHyp</th>\n",
       "      <th>diabetes</th>\n",
       "      <th>totChol</th>\n",
       "      <th>sysBP</th>\n",
       "      <th>diaBP</th>\n",
       "      <th>BMI</th>\n",
       "      <th>heartRate</th>\n",
       "      <th>glucose</th>\n",
       "      <th>TenYearCHD</th>\n",
       "    </tr>\n",
       "  </thead>\n",
       "  <tbody>\n",
       "    <tr>\n",
       "      <th>0</th>\n",
       "      <td>1</td>\n",
       "      <td>39</td>\n",
       "      <td>4.0</td>\n",
       "      <td>0</td>\n",
       "      <td>0.0</td>\n",
       "      <td>0.0</td>\n",
       "      <td>0</td>\n",
       "      <td>0</td>\n",
       "      <td>0</td>\n",
       "      <td>195.0</td>\n",
       "      <td>106.0</td>\n",
       "      <td>70.0</td>\n",
       "      <td>26.97</td>\n",
       "      <td>80.0</td>\n",
       "      <td>77.0</td>\n",
       "      <td>0</td>\n",
       "    </tr>\n",
       "    <tr>\n",
       "      <th>1</th>\n",
       "      <td>0</td>\n",
       "      <td>46</td>\n",
       "      <td>2.0</td>\n",
       "      <td>0</td>\n",
       "      <td>0.0</td>\n",
       "      <td>0.0</td>\n",
       "      <td>0</td>\n",
       "      <td>0</td>\n",
       "      <td>0</td>\n",
       "      <td>250.0</td>\n",
       "      <td>121.0</td>\n",
       "      <td>81.0</td>\n",
       "      <td>28.73</td>\n",
       "      <td>95.0</td>\n",
       "      <td>76.0</td>\n",
       "      <td>0</td>\n",
       "    </tr>\n",
       "    <tr>\n",
       "      <th>2</th>\n",
       "      <td>1</td>\n",
       "      <td>48</td>\n",
       "      <td>1.0</td>\n",
       "      <td>1</td>\n",
       "      <td>20.0</td>\n",
       "      <td>0.0</td>\n",
       "      <td>0</td>\n",
       "      <td>0</td>\n",
       "      <td>0</td>\n",
       "      <td>245.0</td>\n",
       "      <td>127.5</td>\n",
       "      <td>80.0</td>\n",
       "      <td>25.34</td>\n",
       "      <td>75.0</td>\n",
       "      <td>70.0</td>\n",
       "      <td>0</td>\n",
       "    </tr>\n",
       "    <tr>\n",
       "      <th>3</th>\n",
       "      <td>0</td>\n",
       "      <td>61</td>\n",
       "      <td>3.0</td>\n",
       "      <td>1</td>\n",
       "      <td>30.0</td>\n",
       "      <td>0.0</td>\n",
       "      <td>0</td>\n",
       "      <td>1</td>\n",
       "      <td>0</td>\n",
       "      <td>225.0</td>\n",
       "      <td>150.0</td>\n",
       "      <td>95.0</td>\n",
       "      <td>28.58</td>\n",
       "      <td>65.0</td>\n",
       "      <td>103.0</td>\n",
       "      <td>1</td>\n",
       "    </tr>\n",
       "    <tr>\n",
       "      <th>4</th>\n",
       "      <td>0</td>\n",
       "      <td>46</td>\n",
       "      <td>3.0</td>\n",
       "      <td>1</td>\n",
       "      <td>23.0</td>\n",
       "      <td>0.0</td>\n",
       "      <td>0</td>\n",
       "      <td>0</td>\n",
       "      <td>0</td>\n",
       "      <td>285.0</td>\n",
       "      <td>130.0</td>\n",
       "      <td>84.0</td>\n",
       "      <td>23.10</td>\n",
       "      <td>85.0</td>\n",
       "      <td>85.0</td>\n",
       "      <td>0</td>\n",
       "    </tr>\n",
       "  </tbody>\n",
       "</table>\n",
       "</div>"
      ],
      "text/plain": [
       "   male  age  education  currentSmoker  cigsPerDay  BPMeds  prevalentStroke  \\\n",
       "0     1   39        4.0              0         0.0     0.0                0   \n",
       "1     0   46        2.0              0         0.0     0.0                0   \n",
       "2     1   48        1.0              1        20.0     0.0                0   \n",
       "3     0   61        3.0              1        30.0     0.0                0   \n",
       "4     0   46        3.0              1        23.0     0.0                0   \n",
       "\n",
       "   prevalentHyp  diabetes  totChol  sysBP  diaBP    BMI  heartRate  glucose  \\\n",
       "0             0         0    195.0  106.0   70.0  26.97       80.0     77.0   \n",
       "1             0         0    250.0  121.0   81.0  28.73       95.0     76.0   \n",
       "2             0         0    245.0  127.5   80.0  25.34       75.0     70.0   \n",
       "3             1         0    225.0  150.0   95.0  28.58       65.0    103.0   \n",
       "4             0         0    285.0  130.0   84.0  23.10       85.0     85.0   \n",
       "\n",
       "   TenYearCHD  \n",
       "0           0  \n",
       "1           0  \n",
       "2           0  \n",
       "3           1  \n",
       "4           0  "
      ]
     },
     "execution_count": 1,
     "metadata": {},
     "output_type": "execute_result"
    }
   ],
   "source": [
    "import boto3\n",
    "import pandas as pd; pd.set_option('display.max_columns', 100)\n",
    "import numpy as np\n",
    "\n",
    "from sklearn.tree import DecisionTreeClassifier\n",
    "from sklearn.model_selection import train_test_split\n",
    "from sklearn.metrics import recall_score, accuracy_score\n",
    "from sklearn.ensemble import RandomForestClassifier, AdaBoostClassifier, GradientBoostingClassifier\n",
    "\n",
    "\n",
    "## Defining the s3 bucket\n",
    "s3 = boto3.resource('s3')\n",
    "bucket_name = 'mckayla-data-445-bucket'\n",
    "bucket = s3.Bucket(bucket_name)\n",
    "\n",
    "## Defining the file to read from s3 bucket\n",
    "file_key = 'framingham.csv'\n",
    "\n",
    "bucket_object = bucket.Object(file_key)\n",
    "file_object = bucket_object.get()\n",
    "file_content_stream = file_object.get('Body')\n",
    "\n",
    "##Reading the csv file\n",
    "heart = pd.read_csv(file_content_stream)\n",
    "heart.head()"
   ]
  },
  {
   "cell_type": "code",
   "execution_count": 2,
   "id": "11b524e4",
   "metadata": {},
   "outputs": [],
   "source": [
    "## Removing the observations with N/As\n",
    "heart = heart.dropna()"
   ]
  },
  {
   "cell_type": "code",
   "execution_count": 3,
   "id": "39d07530",
   "metadata": {},
   "outputs": [],
   "source": [
    "## Defining the input and target variables\n",
    "X = heart[['age','sysBP','totChol','BMI','heartRate', 'glucose']]\n",
    "Y = heart['TenYearCHD']\n",
    "\n",
    "## SPlitting the data\n",
    "X_train, X_test, Y_train, Y_test = train_test_split(X, Y, test_size = 0.2, stratify = Y)"
   ]
  },
  {
   "cell_type": "markdown",
   "id": "b883f182",
   "metadata": {},
   "source": [
    "Random Forest Model"
   ]
  },
  {
   "cell_type": "code",
   "execution_count": 4,
   "id": "70bc8361",
   "metadata": {},
   "outputs": [
    {
     "name": "stdout",
     "output_type": "stream",
     "text": [
      "The average recall score for the random forest model is 0.8035714285714286\n",
      "The average accuracy score for the random forest model is 0.4371584699453552\n"
     ]
    }
   ],
   "source": [
    "for i in range(0, 100):\n",
    "    \n",
    "    ## Building the random forest model\n",
    "    RF_md = RandomForestClassifier(n_estimators = 500, max_depth = 3).fit(X_train, Y_train)\n",
    "\n",
    "    ## Predicting on test\n",
    "    RF_pred = RF_md.predict_proba(X_test)[:,1]\n",
    "\n",
    "    ## Changing likelihoods to labels\n",
    "    RF_labels = np.where(RF_pred < 0.1, 0, 1)\n",
    "\n",
    "    ## Computing the recall score\n",
    "    RF_recall = recall_score(Y_test, RF_labels)\n",
    "\n",
    "    ## Computing the accuracy score\n",
    "    RF_accuracy = accuracy_score(Y_test, RF_labels)\n",
    "\n",
    "## The average recall and accuracy score\n",
    "RF_recall_avg = np.mean(RF_recall)\n",
    "print('The average recall score for the random forest model is', RF_recall_avg)\n",
    "RF_accuracy_avg = np.mean(RF_accuracy)\n",
    "print('The average accuracy score for the random forest model is', RF_accuracy_avg)"
   ]
  },
  {
   "cell_type": "markdown",
   "id": "f9ae6aad",
   "metadata": {},
   "source": [
    "AdaBoost Model"
   ]
  },
  {
   "cell_type": "code",
   "execution_count": 5,
   "id": "1c726bba",
   "metadata": {},
   "outputs": [
    {
     "name": "stdout",
     "output_type": "stream",
     "text": [
      "The average recall score for the AdaBoost model is 0.9910714285714286\n",
      "The average accuracy score for the AdaBoost model is 0.1598360655737705\n"
     ]
    }
   ],
   "source": [
    "for i in range(0, 100):\n",
    "\n",
    "    ## Building the AdaBoost Model\n",
    "    ada_md = AdaBoostClassifier(base_estimator = DecisionTreeClassifier(max_depth = 3), n_estimators = 500, learning_rate = 0.01).fit(X_train, Y_train)\n",
    "\n",
    "    ## Predicting on test\n",
    "    ada_pred = ada_md.predict_proba(X_test)[:,1]\n",
    "\n",
    "    ## Changing likelihoods to labels\n",
    "    ada_labels = np.where(ada_pred < 0.1, 0, 1)\n",
    "\n",
    "    ## Computing the recall score\n",
    "    ada_recall = recall_score(Y_test, ada_labels)\n",
    "\n",
    "    ## Computing the accuracy score\n",
    "    ada_accuracy = accuracy_score(Y_test, ada_labels)\n",
    "\n",
    "## The average recall and accuracy score\n",
    "ada_recall_avg = np.mean(ada_recall)\n",
    "print('The average recall score for the AdaBoost model is', ada_recall_avg)\n",
    "ada_accuracy_avg = np.mean(ada_accuracy)\n",
    "print('The average accuracy score for the AdaBoost model is', ada_accuracy_avg)"
   ]
  },
  {
   "cell_type": "markdown",
   "id": "68572800",
   "metadata": {},
   "source": [
    "Gradient Boosting Model"
   ]
  },
  {
   "cell_type": "code",
   "execution_count": 6,
   "id": "0bf387ec",
   "metadata": {},
   "outputs": [
    {
     "name": "stdout",
     "output_type": "stream",
     "text": [
      "The average recall score for the Gradient Boosting model is 0.75\n",
      "The average accuracy score for the Gradient Boosting model is 0.49863387978142076\n"
     ]
    }
   ],
   "source": [
    "for i in range(0, 100):\n",
    "\n",
    "    ## Building the Gradient Boosting Model\n",
    "    gb_md = GradientBoostingClassifier(max_depth = 3, n_estimators = 500, learning_rate = 0.01).fit(X_train, Y_train)\n",
    "\n",
    "    ## Predicting on test\n",
    "    gb_pred = gb_md.predict_proba(X_test)[:,1]\n",
    "\n",
    "    ## Changing likelihoods to labels\n",
    "    gb_labels = np.where(gb_pred < 0.1, 0, 1)\n",
    "\n",
    "    ## Computing the recall score\n",
    "    gb_recall = recall_score(Y_test, gb_labels)\n",
    "\n",
    "    ## Computing the accuracy score\n",
    "    gb_accuracy = accuracy_score(Y_test, gb_labels)\n",
    "    \n",
    "## The average recall and accuracy score\n",
    "gb_recall_avg = np.mean(gb_recall)\n",
    "print('The average recall score for the Gradient Boosting model is', gb_recall_avg)\n",
    "gb_accuracy_avg = np.mean(gb_accuracy)\n",
    "print('The average accuracy score for the Gradient Boosting model is', gb_accuracy_avg)"
   ]
  },
  {
   "cell_type": "code",
   "execution_count": null,
   "id": "72721d98",
   "metadata": {},
   "outputs": [],
   "source": [
    "## The best model to predict the risk of coronary disease based on recall is the AdaBoost model and the best model to predict risk of coronary disease based on accuracy is the Gradient Boosting model. "
   ]
  }
 ],
 "metadata": {
  "kernelspec": {
   "display_name": "conda_python3",
   "language": "python",
   "name": "conda_python3"
  },
  "language_info": {
   "codemirror_mode": {
    "name": "ipython",
    "version": 3
   },
   "file_extension": ".py",
   "mimetype": "text/x-python",
   "name": "python",
   "nbconvert_exporter": "python",
   "pygments_lexer": "ipython3",
   "version": "3.8.12"
  }
 },
 "nbformat": 4,
 "nbformat_minor": 5
}
