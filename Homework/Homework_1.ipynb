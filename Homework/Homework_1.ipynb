{
 "cells": [
  {
   "cell_type": "markdown",
   "id": "52c53f69",
   "metadata": {},
   "source": [
    "Exercise 1"
   ]
  },
  {
   "cell_type": "code",
   "execution_count": null,
   "id": "f6b62383",
   "metadata": {},
   "outputs": [],
   "source": [
    "## Clustering algorithm"
   ]
  },
  {
   "cell_type": "markdown",
   "id": "af7b5944",
   "metadata": {},
   "source": [
    "Exercise 2"
   ]
  },
  {
   "cell_type": "code",
   "execution_count": null,
   "id": "92f2aef9",
   "metadata": {},
   "outputs": [],
   "source": [
    "## I could use both supervised learning and unsupervised leanring for spam detection, but I think supervised learning would be better. \n",
    "## My goal is to know if a user is a spammer or not, this is a binary classification test."
   ]
  },
  {
   "cell_type": "markdown",
   "id": "ca37ae89",
   "metadata": {},
   "source": [
    "Exercise 3"
   ]
  },
  {
   "cell_type": "code",
   "execution_count": null,
   "id": "b9b4d4e6",
   "metadata": {},
   "outputs": [],
   "source": [
    "## A test set is a subset of the training set and is used to give an evaluation of a final model."
   ]
  },
  {
   "cell_type": "markdown",
   "id": "834f3ac7",
   "metadata": {},
   "source": [
    "Exercise 4"
   ]
  },
  {
   "cell_type": "code",
   "execution_count": null,
   "id": "b06c380c",
   "metadata": {},
   "outputs": [],
   "source": [
    "## (b) and (d)"
   ]
  },
  {
   "cell_type": "markdown",
   "id": "199fe060",
   "metadata": {},
   "source": [
    "Exercise 5"
   ]
  },
  {
   "cell_type": "code",
   "execution_count": 1,
   "id": "48bf65d8",
   "metadata": {},
   "outputs": [
    {
     "data": {
      "text/html": [
       "<div>\n",
       "<style scoped>\n",
       "    .dataframe tbody tr th:only-of-type {\n",
       "        vertical-align: middle;\n",
       "    }\n",
       "\n",
       "    .dataframe tbody tr th {\n",
       "        vertical-align: top;\n",
       "    }\n",
       "\n",
       "    .dataframe thead th {\n",
       "        text-align: right;\n",
       "    }\n",
       "</style>\n",
       "<table border=\"1\" class=\"dataframe\">\n",
       "  <thead>\n",
       "    <tr style=\"text-align: right;\">\n",
       "      <th></th>\n",
       "      <th>No</th>\n",
       "      <th>transaction_date</th>\n",
       "      <th>house_age</th>\n",
       "      <th>distance_to_the_nearest_MRT_station</th>\n",
       "      <th>number_of_convenience_stores</th>\n",
       "      <th>latitude</th>\n",
       "      <th>longitude</th>\n",
       "      <th>house_price_of_unit_area</th>\n",
       "    </tr>\n",
       "  </thead>\n",
       "  <tbody>\n",
       "    <tr>\n",
       "      <th>0</th>\n",
       "      <td>1</td>\n",
       "      <td>2012.917</td>\n",
       "      <td>32.0</td>\n",
       "      <td>84.87882</td>\n",
       "      <td>10</td>\n",
       "      <td>24.98298</td>\n",
       "      <td>121.54024</td>\n",
       "      <td>37.9</td>\n",
       "    </tr>\n",
       "    <tr>\n",
       "      <th>1</th>\n",
       "      <td>2</td>\n",
       "      <td>2012.917</td>\n",
       "      <td>19.5</td>\n",
       "      <td>306.59470</td>\n",
       "      <td>9</td>\n",
       "      <td>24.98034</td>\n",
       "      <td>121.53951</td>\n",
       "      <td>42.2</td>\n",
       "    </tr>\n",
       "    <tr>\n",
       "      <th>2</th>\n",
       "      <td>3</td>\n",
       "      <td>2013.583</td>\n",
       "      <td>13.3</td>\n",
       "      <td>561.98450</td>\n",
       "      <td>5</td>\n",
       "      <td>24.98746</td>\n",
       "      <td>121.54391</td>\n",
       "      <td>47.3</td>\n",
       "    </tr>\n",
       "    <tr>\n",
       "      <th>3</th>\n",
       "      <td>4</td>\n",
       "      <td>2013.500</td>\n",
       "      <td>13.3</td>\n",
       "      <td>561.98450</td>\n",
       "      <td>5</td>\n",
       "      <td>24.98746</td>\n",
       "      <td>121.54391</td>\n",
       "      <td>54.8</td>\n",
       "    </tr>\n",
       "    <tr>\n",
       "      <th>4</th>\n",
       "      <td>5</td>\n",
       "      <td>2012.833</td>\n",
       "      <td>5.0</td>\n",
       "      <td>390.56840</td>\n",
       "      <td>5</td>\n",
       "      <td>24.97937</td>\n",
       "      <td>121.54245</td>\n",
       "      <td>43.1</td>\n",
       "    </tr>\n",
       "  </tbody>\n",
       "</table>\n",
       "</div>"
      ],
      "text/plain": [
       "   No  transaction_date  house_age  distance_to_the_nearest_MRT_station  \\\n",
       "0   1          2012.917       32.0                             84.87882   \n",
       "1   2          2012.917       19.5                            306.59470   \n",
       "2   3          2013.583       13.3                            561.98450   \n",
       "3   4          2013.500       13.3                            561.98450   \n",
       "4   5          2012.833        5.0                            390.56840   \n",
       "\n",
       "   number_of_convenience_stores  latitude  longitude  house_price_of_unit_area  \n",
       "0                            10  24.98298  121.54024                      37.9  \n",
       "1                             9  24.98034  121.53951                      42.2  \n",
       "2                             5  24.98746  121.54391                      47.3  \n",
       "3                             5  24.98746  121.54391                      54.8  \n",
       "4                             5  24.97937  121.54245                      43.1  "
      ]
     },
     "execution_count": 1,
     "metadata": {},
     "output_type": "execute_result"
    }
   ],
   "source": [
    "import boto3\n",
    "import pandas as pd; pd.set_option('display.max_columns', 100)\n",
    "import numpy as np\n",
    "\n",
    "## Defining the s3 bucket\n",
    "s3 = boto3.resource('s3')\n",
    "bucket_name = 'mckayla-data-445-bucket'\n",
    "bucket = s3.Bucket(bucket_name)\n",
    "\n",
    "## Defining the file to read from s3 bucket\n",
    "file_key = 'Real_Estate.csv'\n",
    "\n",
    "bucket_object = bucket.Object(file_key)\n",
    "file_object = bucket_object.get()\n",
    "file_content_stream = file_object.get('Body')\n",
    "\n",
    "##Reading the csv file\n",
    "house_price = pd.read_csv(file_content_stream)\n",
    "house_price.head()"
   ]
  },
  {
   "cell_type": "code",
   "execution_count": 2,
   "id": "30979b2a",
   "metadata": {},
   "outputs": [
    {
     "data": {
      "text/html": [
       "<div>\n",
       "<style scoped>\n",
       "    .dataframe tbody tr th:only-of-type {\n",
       "        vertical-align: middle;\n",
       "    }\n",
       "\n",
       "    .dataframe tbody tr th {\n",
       "        vertical-align: top;\n",
       "    }\n",
       "\n",
       "    .dataframe thead th {\n",
       "        text-align: right;\n",
       "    }\n",
       "</style>\n",
       "<table border=\"1\" class=\"dataframe\">\n",
       "  <thead>\n",
       "    <tr style=\"text-align: right;\">\n",
       "      <th></th>\n",
       "      <th>house_age</th>\n",
       "      <th>distance_to_the_nearest_MRT_station</th>\n",
       "      <th>number_of_convenience_stores</th>\n",
       "      <th>latitude</th>\n",
       "      <th>longitude</th>\n",
       "      <th>house_price_of_unit_area</th>\n",
       "    </tr>\n",
       "  </thead>\n",
       "  <tbody>\n",
       "    <tr>\n",
       "      <th>0</th>\n",
       "      <td>32.0</td>\n",
       "      <td>84.87882</td>\n",
       "      <td>10</td>\n",
       "      <td>24.98298</td>\n",
       "      <td>121.54024</td>\n",
       "      <td>37.9</td>\n",
       "    </tr>\n",
       "    <tr>\n",
       "      <th>1</th>\n",
       "      <td>19.5</td>\n",
       "      <td>306.59470</td>\n",
       "      <td>9</td>\n",
       "      <td>24.98034</td>\n",
       "      <td>121.53951</td>\n",
       "      <td>42.2</td>\n",
       "    </tr>\n",
       "    <tr>\n",
       "      <th>2</th>\n",
       "      <td>13.3</td>\n",
       "      <td>561.98450</td>\n",
       "      <td>5</td>\n",
       "      <td>24.98746</td>\n",
       "      <td>121.54391</td>\n",
       "      <td>47.3</td>\n",
       "    </tr>\n",
       "    <tr>\n",
       "      <th>3</th>\n",
       "      <td>13.3</td>\n",
       "      <td>561.98450</td>\n",
       "      <td>5</td>\n",
       "      <td>24.98746</td>\n",
       "      <td>121.54391</td>\n",
       "      <td>54.8</td>\n",
       "    </tr>\n",
       "    <tr>\n",
       "      <th>4</th>\n",
       "      <td>5.0</td>\n",
       "      <td>390.56840</td>\n",
       "      <td>5</td>\n",
       "      <td>24.97937</td>\n",
       "      <td>121.54245</td>\n",
       "      <td>43.1</td>\n",
       "    </tr>\n",
       "  </tbody>\n",
       "</table>\n",
       "</div>"
      ],
      "text/plain": [
       "   house_age  distance_to_the_nearest_MRT_station  \\\n",
       "0       32.0                             84.87882   \n",
       "1       19.5                            306.59470   \n",
       "2       13.3                            561.98450   \n",
       "3       13.3                            561.98450   \n",
       "4        5.0                            390.56840   \n",
       "\n",
       "   number_of_convenience_stores  latitude  longitude  house_price_of_unit_area  \n",
       "0                            10  24.98298  121.54024                      37.9  \n",
       "1                             9  24.98034  121.53951                      42.2  \n",
       "2                             5  24.98746  121.54391                      47.3  \n",
       "3                             5  24.98746  121.54391                      54.8  \n",
       "4                             5  24.97937  121.54245                      43.1  "
      ]
     },
     "execution_count": 2,
     "metadata": {},
     "output_type": "execute_result"
    }
   ],
   "source": [
    "## Dropping No and transaction_date\n",
    "house_price = house_price.drop(columns = ['No','transaction_date'],axis = 1)\n",
    "house_price.head()"
   ]
  },
  {
   "cell_type": "code",
   "execution_count": 4,
   "id": "3a3449d5",
   "metadata": {},
   "outputs": [],
   "source": [
    "from sklearn.model_selection import train_test_split\n",
    "\n",
    "##Model 1\n",
    "\n",
    "##Defining the input and target\n",
    "X1 = house_price[['house_age', 'distance_to_the_nearest_MRT_station', 'number_of_convenience_stores', 'latitude', 'longitude']]\n",
    "Y1 = house_price['house_price_of_unit_area']\n",
    "\n",
    "##Splitting the data\n",
    "X1_train, X1_test, Y1_train, Y1_test = train_test_split(X1, Y1, test_size = 0.2)"
   ]
  },
  {
   "cell_type": "code",
   "execution_count": 5,
   "id": "545c602c",
   "metadata": {},
   "outputs": [],
   "source": [
    "from sklearn.linear_model import LinearRegression\n",
    "\n",
    "## Building the linear model\n",
    "lm_md1 = LinearRegression().fit(X1_train,Y1_train)"
   ]
  },
  {
   "cell_type": "code",
   "execution_count": 6,
   "id": "4ce08dc5",
   "metadata": {},
   "outputs": [
    {
     "data": {
      "text/plain": [
       "array([45.23802495, 47.59098368, 31.96519592, 47.95353913, 45.30048179,\n",
       "       47.59098368, 43.32267396, 41.08973482, 48.40142791, 45.34351004,\n",
       "       54.09443997, 40.53518953, 45.57770744, 48.13954274, 25.32034939,\n",
       "       47.35745422, 39.5750342 , 36.07750129, 44.551111  , 31.79889551,\n",
       "       42.05930405, 45.72717294, 30.92762205, 35.75465859, 28.08945911,\n",
       "       14.62129028, 40.62472712, 42.47229144, 38.81610069, 40.63494155,\n",
       "       50.94901705, 42.65047667, 11.15197601, 35.71671138, 49.82206875,\n",
       "       39.04935715, 38.10138998, 42.83043914, 38.17416498,  7.07606939,\n",
       "       45.08471691, 44.68902788, 40.20484469, 45.29506457, 46.62949307,\n",
       "       38.04773979, 48.81325527, 39.0689345 , 27.85718675, 39.798183  ,\n",
       "       41.82114883, 29.26749582,  7.12589122, 22.60511826, 41.16798929,\n",
       "       47.30763239, 34.20442071, 30.95253297, 41.1713349 , 48.41107911,\n",
       "       45.47454744, 44.21967198, 46.27998652, 33.24616839, 34.51307275,\n",
       "       34.10756056, 41.70590453, 32.77874114, 44.08752536, 45.34999285,\n",
       "       49.09123944, 34.20596056, 40.3447729 , 51.74907367, 46.15361805,\n",
       "       49.72358788, 26.83163458, 30.52021463, 11.6752957 , 51.72416275,\n",
       "       40.95492251, 42.94826757, 42.48236282])"
      ]
     },
     "execution_count": 6,
     "metadata": {},
     "output_type": "execute_result"
    }
   ],
   "source": [
    "## Predicting on test\n",
    "lm_pred1 = lm_md1.predict(X1_test)\n",
    "lm_pred1"
   ]
  },
  {
   "cell_type": "code",
   "execution_count": 7,
   "id": "6066cfba",
   "metadata": {},
   "outputs": [
    {
     "name": "stdout",
     "output_type": "stream",
     "text": [
      "The MSE of Model 1 is  42.72598617539815\n"
     ]
    }
   ],
   "source": [
    "## Computing the MSE\n",
    "mse1 = np.mean((Y1_test - lm_pred1)**2)\n",
    "print('The MSE of Model 1 is ', mse1)"
   ]
  },
  {
   "cell_type": "code",
   "execution_count": 8,
   "id": "2d96a76b",
   "metadata": {},
   "outputs": [],
   "source": [
    "##Model 2\n",
    "\n",
    "##Defining the input and target\n",
    "X2 = house_price[['house_age', 'number_of_convenience_stores', 'latitude', 'longitude']]\n",
    "Y2 = house_price['house_price_of_unit_area']\n",
    "\n",
    "##Splitting the data\n",
    "X2_train, X2_test, Y2_train, Y2_test = train_test_split(X2, Y2, test_size = 0.2)"
   ]
  },
  {
   "cell_type": "code",
   "execution_count": 9,
   "id": "f316e543",
   "metadata": {},
   "outputs": [
    {
     "data": {
      "text/plain": [
       "array([29.13493035, 31.72552373, 37.94998568, 52.4383493 , 34.38174759,\n",
       "       35.06972764, 34.47075974, 33.29585018, 42.06729471, 33.63264773,\n",
       "       42.18030933, 29.82148117, 44.71391839, 30.78410715, 45.70795857,\n",
       "       45.95058827, 45.64874557, 52.46242876, 31.63124105, 29.81484887,\n",
       "       35.7985106 , 49.96397491, 46.44840516, 34.82378671, 35.262248  ,\n",
       "       39.20472387, 36.50347072, 27.06587724, 32.94561373, 41.30866766,\n",
       "       38.03227376, 39.74662137, 31.00830173, 30.07191748, 45.48018937,\n",
       "       46.56150456, 38.55268473, 45.76515238, 15.03047613, 39.6585006 ,\n",
       "       30.47653974, 36.42079965, 43.91254081, 31.0062878 , 35.31628378,\n",
       "       39.53072528, 31.70347942, 16.65527729, 35.56437188, 45.55728404,\n",
       "       48.56268095, 44.58637625, 48.44755927, 28.46274394, 42.98118438,\n",
       "       37.28062178, 48.30606674, 49.72382669, 33.27177072, 17.44138421,\n",
       "       39.78431576, 42.23871801, 46.06814727, 33.37015317, 31.4342525 ,\n",
       "       43.6641705 , 32.38975371, 48.04330447, 49.96397491, 17.46546367,\n",
       "       17.06049252, 34.32314657, 41.31838805, 36.8873357 , 42.14240018,\n",
       "       20.69064462, 43.02690704, 32.5254706 , 30.00798499, 44.50939735,\n",
       "       49.31698953, 52.2697931 , 36.9199744 ])"
      ]
     },
     "execution_count": 9,
     "metadata": {},
     "output_type": "execute_result"
    }
   ],
   "source": [
    "## Building the linear model\n",
    "lm_md2 = LinearRegression().fit(X2_train,Y2_train)\n",
    "\n",
    "## Predicting on test\n",
    "lm_pred2 = lm_md2.predict(X2_test)\n",
    "lm_pred2"
   ]
  },
  {
   "cell_type": "code",
   "execution_count": 10,
   "id": "a81b86df",
   "metadata": {},
   "outputs": [
    {
     "name": "stdout",
     "output_type": "stream",
     "text": [
      "The MSE of Model 2 is  137.93345805481013\n"
     ]
    }
   ],
   "source": [
    "## Computing the MSE\n",
    "mse2 = np.mean((Y2_test - lm_pred2)**2)\n",
    "print('The MSE of Model 2 is ', mse2)"
   ]
  },
  {
   "cell_type": "code",
   "execution_count": null,
   "id": "1acc2589",
   "metadata": {},
   "outputs": [],
   "source": [
    "## Based on the models MSE, Model 2 would be the model to use with the higher MSE."
   ]
  },
  {
   "cell_type": "code",
   "execution_count": 15,
   "id": "cb5aaeec",
   "metadata": {},
   "outputs": [
    {
     "ename": "NameError",
     "evalue": "name 'list1' is not defined",
     "output_type": "error",
     "traceback": [
      "\u001b[0;31m---------------------------------------------------------------------------\u001b[0m",
      "\u001b[0;31mNameError\u001b[0m                                 Traceback (most recent call last)",
      "\u001b[0;32m/tmp/ipykernel_7564/3669888949.py\u001b[0m in \u001b[0;36m<cell line: 5>\u001b[0;34m()\u001b[0m\n\u001b[1;32m      3\u001b[0m \u001b[0mY1\u001b[0m \u001b[0;34m=\u001b[0m \u001b[0;34m'Y1_test'\u001b[0m\u001b[0;34m\u001b[0m\u001b[0;34m\u001b[0m\u001b[0m\n\u001b[1;32m      4\u001b[0m \u001b[0;34m\u001b[0m\u001b[0m\n\u001b[0;32m----> 5\u001b[0;31m \u001b[0mlm_md1_results\u001b[0m \u001b[0;34m=\u001b[0m \u001b[0mlist1\u001b[0m\u001b[0;34m(\u001b[0m\u001b[0;34m)\u001b[0m\u001b[0;34m\u001b[0m\u001b[0;34m\u001b[0m\u001b[0m\n\u001b[0m\u001b[1;32m      6\u001b[0m \u001b[0;34m\u001b[0m\u001b[0m\n\u001b[1;32m      7\u001b[0m \u001b[0;32mfor\u001b[0m \u001b[0mi\u001b[0m \u001b[0;32min\u001b[0m \u001b[0mrange\u001b[0m\u001b[0;34m(\u001b[0m\u001b[0;36m1\u001b[0m\u001b[0;34m,\u001b[0m \u001b[0;36m100\u001b[0m\u001b[0;34m)\u001b[0m\u001b[0;34m:\u001b[0m\u001b[0;34m\u001b[0m\u001b[0;34m\u001b[0m\u001b[0m\n",
      "\u001b[0;31mNameError\u001b[0m: name 'list1' is not defined"
     ]
    }
   ],
   "source": [
    "## Running the models 100 times\n",
    "X1 = 'X1_test'\n",
    "Y1 = 'Y1_test'\n",
    "\n",
    "lm_md1_results = list1()\n",
    "\n",
    "for i in range(1, 100):\n",
    "    X1_train\n",
    "\n",
    "X2 = 'X2_test'\n",
    "Y2 = 'Y2_test'\n",
    "\n",
    "lm_md2_results = list2()\n",
    "\n",
    "for i in range(1,100):\n",
    "    X2_train"
   ]
  },
  {
   "cell_type": "code",
   "execution_count": 14,
   "id": "90199d03",
   "metadata": {},
   "outputs": [
    {
     "ename": "TypeError",
     "evalue": "_linspace_dispatcher() got multiple values for argument 'stop'",
     "output_type": "error",
     "traceback": [
      "\u001b[0;31m---------------------------------------------------------------------------\u001b[0m",
      "\u001b[0;31mTypeError\u001b[0m                                 Traceback (most recent call last)",
      "\u001b[0;32m/tmp/ipykernel_7564/1530815839.py\u001b[0m in \u001b[0;36m<cell line: 4>\u001b[0;34m()\u001b[0m\n\u001b[1;32m      2\u001b[0m \u001b[0;34m\u001b[0m\u001b[0m\n\u001b[1;32m      3\u001b[0m \u001b[0;34m\u001b[0m\u001b[0m\n\u001b[0;32m----> 4\u001b[0;31m \u001b[0mindex\u001b[0m \u001b[0;34m=\u001b[0m \u001b[0mnp\u001b[0m\u001b[0;34m.\u001b[0m\u001b[0mlinspace\u001b[0m\u001b[0;34m(\u001b[0m\u001b[0;36m0\u001b[0m\u001b[0;34m,\u001b[0m\u001b[0;36m99\u001b[0m\u001b[0;34m,\u001b[0m \u001b[0mstop\u001b[0m\u001b[0;34m=\u001b[0m\u001b[0;36m1\u001b[0m\u001b[0;34m)\u001b[0m\u001b[0;34m\u001b[0m\u001b[0;34m\u001b[0m\u001b[0m\n\u001b[0m\u001b[1;32m      5\u001b[0m \u001b[0mplt\u001b[0m\u001b[0;34m.\u001b[0m\u001b[0mplot\u001b[0m\u001b[0;34m(\u001b[0m\u001b[0mindex\u001b[0m\u001b[0;34m,\u001b[0m \u001b[0mlm_md1_results\u001b[0m\u001b[0;34m)\u001b[0m\u001b[0;34m\u001b[0m\u001b[0;34m\u001b[0m\u001b[0m\n",
      "\u001b[0;32m<__array_function__ internals>\u001b[0m in \u001b[0;36mlinspace\u001b[0;34m(*args, **kwargs)\u001b[0m\n",
      "\u001b[0;31mTypeError\u001b[0m: _linspace_dispatcher() got multiple values for argument 'stop'"
     ]
    }
   ],
   "source": [
    "import matplotlib.pyplot as plt\n",
    "\n",
    "index = np.linspace(0,99, stop=1)\n",
    "plt.plot(index, lm_md1_results)"
   ]
  }
 ],
 "metadata": {
  "kernelspec": {
   "display_name": "conda_python3",
   "language": "python",
   "name": "conda_python3"
  },
  "language_info": {
   "codemirror_mode": {
    "name": "ipython",
    "version": 3
   },
   "file_extension": ".py",
   "mimetype": "text/x-python",
   "name": "python",
   "nbconvert_exporter": "python",
   "pygments_lexer": "ipython3",
   "version": "3.8.12"
  }
 },
 "nbformat": 4,
 "nbformat_minor": 5
}
