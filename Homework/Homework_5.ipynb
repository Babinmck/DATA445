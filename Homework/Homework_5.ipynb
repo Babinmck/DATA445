{
 "cells": [
  {
   "cell_type": "markdown",
   "id": "a6652521",
   "metadata": {},
   "source": [
    "Exercise 1"
   ]
  },
  {
   "cell_type": "code",
   "execution_count": null,
   "id": "be331a03",
   "metadata": {},
   "outputs": [],
   "source": [
    "## No, it is not a good idea to try scaling the input features. "
   ]
  },
  {
   "cell_type": "markdown",
   "id": "25f99ab7",
   "metadata": {},
   "source": [
    "Exercise 2"
   ]
  },
  {
   "cell_type": "code",
   "execution_count": null,
   "id": "e94d1e1f",
   "metadata": {},
   "outputs": [],
   "source": [
    "## Yes, decreasing the max_depth would be a way to try and fit over-fitting."
   ]
  },
  {
   "cell_type": "markdown",
   "id": "23a68f34",
   "metadata": {},
   "source": [
    "Exercise 3"
   ]
  },
  {
   "cell_type": "code",
   "execution_count": null,
   "id": "82c627b1",
   "metadata": {},
   "outputs": [],
   "source": [
    "## g). All of the above"
   ]
  },
  {
   "cell_type": "markdown",
   "id": "95260acc",
   "metadata": {},
   "source": [
    "Exercise 4"
   ]
  },
  {
   "cell_type": "code",
   "execution_count": null,
   "id": "9ac8a902",
   "metadata": {},
   "outputs": [],
   "source": [
    "## d). a. and c."
   ]
  },
  {
   "cell_type": "markdown",
   "id": "90b369ff",
   "metadata": {},
   "source": [
    "Exercise 5"
   ]
  },
  {
   "cell_type": "code",
   "execution_count": null,
   "id": "5393d7f4",
   "metadata": {},
   "outputs": [],
   "source": []
  },
  {
   "cell_type": "markdown",
   "id": "d7f3e7de",
   "metadata": {},
   "source": [
    "Exercise 6"
   ]
  },
  {
   "cell_type": "code",
   "execution_count": 19,
   "id": "6694aede",
   "metadata": {},
   "outputs": [
    {
     "data": {
      "text/html": [
       "<div>\n",
       "<style scoped>\n",
       "    .dataframe tbody tr th:only-of-type {\n",
       "        vertical-align: middle;\n",
       "    }\n",
       "\n",
       "    .dataframe tbody tr th {\n",
       "        vertical-align: top;\n",
       "    }\n",
       "\n",
       "    .dataframe thead th {\n",
       "        text-align: right;\n",
       "    }\n",
       "</style>\n",
       "<table border=\"1\" class=\"dataframe\">\n",
       "  <thead>\n",
       "    <tr style=\"text-align: right;\">\n",
       "      <th></th>\n",
       "      <th>male</th>\n",
       "      <th>age</th>\n",
       "      <th>education</th>\n",
       "      <th>currentSmoker</th>\n",
       "      <th>cigsPerDay</th>\n",
       "      <th>BPMeds</th>\n",
       "      <th>prevalentStroke</th>\n",
       "      <th>prevalentHyp</th>\n",
       "      <th>diabetes</th>\n",
       "      <th>totChol</th>\n",
       "      <th>sysBP</th>\n",
       "      <th>diaBP</th>\n",
       "      <th>BMI</th>\n",
       "      <th>heartRate</th>\n",
       "      <th>glucose</th>\n",
       "      <th>TenYearCHD</th>\n",
       "    </tr>\n",
       "  </thead>\n",
       "  <tbody>\n",
       "    <tr>\n",
       "      <th>0</th>\n",
       "      <td>1</td>\n",
       "      <td>39</td>\n",
       "      <td>4.0</td>\n",
       "      <td>0</td>\n",
       "      <td>0.0</td>\n",
       "      <td>0.0</td>\n",
       "      <td>0</td>\n",
       "      <td>0</td>\n",
       "      <td>0</td>\n",
       "      <td>195.0</td>\n",
       "      <td>106.0</td>\n",
       "      <td>70.0</td>\n",
       "      <td>26.97</td>\n",
       "      <td>80.0</td>\n",
       "      <td>77.0</td>\n",
       "      <td>0</td>\n",
       "    </tr>\n",
       "    <tr>\n",
       "      <th>1</th>\n",
       "      <td>0</td>\n",
       "      <td>46</td>\n",
       "      <td>2.0</td>\n",
       "      <td>0</td>\n",
       "      <td>0.0</td>\n",
       "      <td>0.0</td>\n",
       "      <td>0</td>\n",
       "      <td>0</td>\n",
       "      <td>0</td>\n",
       "      <td>250.0</td>\n",
       "      <td>121.0</td>\n",
       "      <td>81.0</td>\n",
       "      <td>28.73</td>\n",
       "      <td>95.0</td>\n",
       "      <td>76.0</td>\n",
       "      <td>0</td>\n",
       "    </tr>\n",
       "    <tr>\n",
       "      <th>2</th>\n",
       "      <td>1</td>\n",
       "      <td>48</td>\n",
       "      <td>1.0</td>\n",
       "      <td>1</td>\n",
       "      <td>20.0</td>\n",
       "      <td>0.0</td>\n",
       "      <td>0</td>\n",
       "      <td>0</td>\n",
       "      <td>0</td>\n",
       "      <td>245.0</td>\n",
       "      <td>127.5</td>\n",
       "      <td>80.0</td>\n",
       "      <td>25.34</td>\n",
       "      <td>75.0</td>\n",
       "      <td>70.0</td>\n",
       "      <td>0</td>\n",
       "    </tr>\n",
       "    <tr>\n",
       "      <th>3</th>\n",
       "      <td>0</td>\n",
       "      <td>61</td>\n",
       "      <td>3.0</td>\n",
       "      <td>1</td>\n",
       "      <td>30.0</td>\n",
       "      <td>0.0</td>\n",
       "      <td>0</td>\n",
       "      <td>1</td>\n",
       "      <td>0</td>\n",
       "      <td>225.0</td>\n",
       "      <td>150.0</td>\n",
       "      <td>95.0</td>\n",
       "      <td>28.58</td>\n",
       "      <td>65.0</td>\n",
       "      <td>103.0</td>\n",
       "      <td>1</td>\n",
       "    </tr>\n",
       "    <tr>\n",
       "      <th>4</th>\n",
       "      <td>0</td>\n",
       "      <td>46</td>\n",
       "      <td>3.0</td>\n",
       "      <td>1</td>\n",
       "      <td>23.0</td>\n",
       "      <td>0.0</td>\n",
       "      <td>0</td>\n",
       "      <td>0</td>\n",
       "      <td>0</td>\n",
       "      <td>285.0</td>\n",
       "      <td>130.0</td>\n",
       "      <td>84.0</td>\n",
       "      <td>23.10</td>\n",
       "      <td>85.0</td>\n",
       "      <td>85.0</td>\n",
       "      <td>0</td>\n",
       "    </tr>\n",
       "  </tbody>\n",
       "</table>\n",
       "</div>"
      ],
      "text/plain": [
       "   male  age  education  currentSmoker  cigsPerDay  BPMeds  prevalentStroke  \\\n",
       "0     1   39        4.0              0         0.0     0.0                0   \n",
       "1     0   46        2.0              0         0.0     0.0                0   \n",
       "2     1   48        1.0              1        20.0     0.0                0   \n",
       "3     0   61        3.0              1        30.0     0.0                0   \n",
       "4     0   46        3.0              1        23.0     0.0                0   \n",
       "\n",
       "   prevalentHyp  diabetes  totChol  sysBP  diaBP    BMI  heartRate  glucose  \\\n",
       "0             0         0    195.0  106.0   70.0  26.97       80.0     77.0   \n",
       "1             0         0    250.0  121.0   81.0  28.73       95.0     76.0   \n",
       "2             0         0    245.0  127.5   80.0  25.34       75.0     70.0   \n",
       "3             1         0    225.0  150.0   95.0  28.58       65.0    103.0   \n",
       "4             0         0    285.0  130.0   84.0  23.10       85.0     85.0   \n",
       "\n",
       "   TenYearCHD  \n",
       "0           0  \n",
       "1           0  \n",
       "2           0  \n",
       "3           1  \n",
       "4           0  "
      ]
     },
     "execution_count": 19,
     "metadata": {},
     "output_type": "execute_result"
    }
   ],
   "source": [
    "import boto3\n",
    "import pandas as pd; pd.set_option('display.max_columns', 100)\n",
    "import numpy as np\n",
    "\n",
    "from sklearn.model_selection import train_test_split\n",
    "from sklearn.metrics import recall_score\n",
    "from sklearn.ensemble import RandomForestClassifier\n",
    "\n",
    "\n",
    "## Defining the s3 bucket\n",
    "s3 = boto3.resource('s3')\n",
    "bucket_name = 'mckayla-data-445-bucket'\n",
    "bucket = s3.Bucket(bucket_name)\n",
    "\n",
    "## Defining the file to read from s3 bucket\n",
    "file_key = 'framingham.csv'\n",
    "\n",
    "bucket_object = bucket.Object(file_key)\n",
    "file_object = bucket_object.get()\n",
    "file_content_stream = file_object.get('Body')\n",
    "\n",
    "##Reading the csv file\n",
    "heart = pd.read_csv(file_content_stream)\n",
    "heart.head()"
   ]
  },
  {
   "cell_type": "code",
   "execution_count": 20,
   "id": "19637652",
   "metadata": {},
   "outputs": [],
   "source": [
    "## Removing the observations with N/As\n",
    "heart = heart.dropna()"
   ]
  },
  {
   "cell_type": "code",
   "execution_count": 21,
   "id": "e1759396",
   "metadata": {},
   "outputs": [
    {
     "data": {
      "text/html": [
       "<div>\n",
       "<style scoped>\n",
       "    .dataframe tbody tr th:only-of-type {\n",
       "        vertical-align: middle;\n",
       "    }\n",
       "\n",
       "    .dataframe tbody tr th {\n",
       "        vertical-align: top;\n",
       "    }\n",
       "\n",
       "    .dataframe thead th {\n",
       "        text-align: right;\n",
       "    }\n",
       "</style>\n",
       "<table border=\"1\" class=\"dataframe\">\n",
       "  <thead>\n",
       "    <tr style=\"text-align: right;\">\n",
       "      <th></th>\n",
       "      <th>Feature</th>\n",
       "      <th>Importance</th>\n",
       "    </tr>\n",
       "  </thead>\n",
       "  <tbody>\n",
       "    <tr>\n",
       "      <th>1</th>\n",
       "      <td>age</td>\n",
       "      <td>0.197830</td>\n",
       "    </tr>\n",
       "    <tr>\n",
       "      <th>10</th>\n",
       "      <td>sysBP</td>\n",
       "      <td>0.171154</td>\n",
       "    </tr>\n",
       "    <tr>\n",
       "      <th>11</th>\n",
       "      <td>diaBP</td>\n",
       "      <td>0.126564</td>\n",
       "    </tr>\n",
       "    <tr>\n",
       "      <th>14</th>\n",
       "      <td>glucose</td>\n",
       "      <td>0.100155</td>\n",
       "    </tr>\n",
       "    <tr>\n",
       "      <th>12</th>\n",
       "      <td>BMI</td>\n",
       "      <td>0.084142</td>\n",
       "    </tr>\n",
       "    <tr>\n",
       "      <th>9</th>\n",
       "      <td>totChol</td>\n",
       "      <td>0.073502</td>\n",
       "    </tr>\n",
       "    <tr>\n",
       "      <th>7</th>\n",
       "      <td>prevalentHyp</td>\n",
       "      <td>0.059707</td>\n",
       "    </tr>\n",
       "    <tr>\n",
       "      <th>4</th>\n",
       "      <td>cigsPerDay</td>\n",
       "      <td>0.043455</td>\n",
       "    </tr>\n",
       "    <tr>\n",
       "      <th>13</th>\n",
       "      <td>heartRate</td>\n",
       "      <td>0.042383</td>\n",
       "    </tr>\n",
       "    <tr>\n",
       "      <th>2</th>\n",
       "      <td>education</td>\n",
       "      <td>0.032030</td>\n",
       "    </tr>\n",
       "    <tr>\n",
       "      <th>0</th>\n",
       "      <td>male</td>\n",
       "      <td>0.029838</td>\n",
       "    </tr>\n",
       "    <tr>\n",
       "      <th>8</th>\n",
       "      <td>diabetes</td>\n",
       "      <td>0.015742</td>\n",
       "    </tr>\n",
       "    <tr>\n",
       "      <th>3</th>\n",
       "      <td>currentSmoker</td>\n",
       "      <td>0.008500</td>\n",
       "    </tr>\n",
       "    <tr>\n",
       "      <th>6</th>\n",
       "      <td>prevalentStroke</td>\n",
       "      <td>0.007759</td>\n",
       "    </tr>\n",
       "    <tr>\n",
       "      <th>5</th>\n",
       "      <td>BPMeds</td>\n",
       "      <td>0.007238</td>\n",
       "    </tr>\n",
       "  </tbody>\n",
       "</table>\n",
       "</div>"
      ],
      "text/plain": [
       "            Feature  Importance\n",
       "1               age    0.197830\n",
       "10            sysBP    0.171154\n",
       "11            diaBP    0.126564\n",
       "14          glucose    0.100155\n",
       "12              BMI    0.084142\n",
       "9           totChol    0.073502\n",
       "7      prevalentHyp    0.059707\n",
       "4        cigsPerDay    0.043455\n",
       "13        heartRate    0.042383\n",
       "2         education    0.032030\n",
       "0              male    0.029838\n",
       "8          diabetes    0.015742\n",
       "3     currentSmoker    0.008500\n",
       "6   prevalentStroke    0.007759\n",
       "5            BPMeds    0.007238"
      ]
     },
     "execution_count": 21,
     "metadata": {},
     "output_type": "execute_result"
    }
   ],
   "source": [
    "## Defining the input and target variables\n",
    "X = heart[['male','age', 'education','currentSmoker', 'cigsPerDay', 'BPMeds', 'prevalentStroke', 'prevalentHyp', 'diabetes','totChol', 'sysBP', 'diaBP','BMI','heartRate', 'glucose']]\n",
    "Y = heart['TenYearCHD']\n",
    "\n",
    "for i in range(0, 100):\n",
    "    ## Splitting the data\n",
    "    X_train, X_test, Y_train, Y_test = train_test_split(X, Y, test_size = 0.2)\n",
    "\n",
    "    ## Building the random forest model\n",
    "    RF_md = RandomForestClassifier(n_estimators = 500, max_depth = 5).fit(X_train, Y_train)\n",
    "\n",
    "    ## Predicting on test\n",
    "    RF_pred = RF_md.predict_proba(X_test)[:,1]\n",
    "\n",
    "## Extracting the feature importances\n",
    "importances_avg = pd.DataFrame({'Feature': X_train.columns, 'Importance': RF_md.feature_importances_}) \n",
    "importances_avg = importances_avg.sort_values(by = 'Importance', ascending = False)\n",
    "importances_avg"
   ]
  },
  {
   "cell_type": "code",
   "execution_count": 37,
   "id": "0a3916ad",
   "metadata": {},
   "outputs": [],
   "source": [
    "## Top 5 variables as predictors\n",
    "## Defining the input and target variables for Random Forest\n",
    "X = heart[['age', 'sysBP', 'diaBP','BMI', 'glucose']]\n",
    "Y = heart['TenYearCHD']\n",
    "\n",
    "## Splitting the data\n",
    "X_train, X_test, Y_train, Y_test = train_test_split(X, Y, test_size = 0.2)"
   ]
  },
  {
   "cell_type": "code",
   "execution_count": 46,
   "id": "619d13b9",
   "metadata": {},
   "outputs": [],
   "source": [
    "## Random Forest Model 1\n",
    "\n",
    "for i in range(0, 100):\n",
    "    ## Building the Random Forest model\n",
    "    RF_md1 = RandomForestClassifier(n_estimators = 500, max_depth = 3).fit(X_train, Y_train)\n",
    "\n",
    "    ## Predicting on test\n",
    "    RF_pred1 = RF_md1.predict_proba(X_test)[:, 1]\n",
    "\n",
    "    ## Changing likelihoods to labels\n",
    "    RF_labels1 = np.where(RF_pred1 < 0.1, 0, 1)\n",
    "\n",
    "    ## Computing the recall score\n",
    "    RF_recall1 = recall_score(Y_test, RF_labels1)"
   ]
  },
  {
   "cell_type": "code",
   "execution_count": 47,
   "id": "9a623be6",
   "metadata": {},
   "outputs": [
    {
     "data": {
      "text/plain": [
       "0.75"
      ]
     },
     "execution_count": 47,
     "metadata": {},
     "output_type": "execute_result"
    }
   ],
   "source": [
    "## Computing the average recall score\n",
    "RF_recall1_avg = np.mean(RF_recall1)\n",
    "RF_recall1_avg"
   ]
  },
  {
   "cell_type": "code",
   "execution_count": 48,
   "id": "191dcc90",
   "metadata": {},
   "outputs": [],
   "source": [
    "## Random Forest Model 2\n",
    "\n",
    "for i in range(0, 100):\n",
    "    ## Building the Random Forest model\n",
    "    RF_md2 = RandomForestClassifier(n_estimators = 500, max_depth = 5).fit(X_train, Y_train)\n",
    "\n",
    "    ## Predicting on test\n",
    "    RF_pred2 = RF_md2.predict_proba(X_test)[:, 1]\n",
    "\n",
    "    ## Changing likelihoods to labels\n",
    "    RF_labels2 = np.where(RF_pred2 < 0.1, 0, 1)\n",
    "\n",
    "    ## Computing the recall score\n",
    "    RF_recall2 = recall_score(Y_test, RF_labels2)"
   ]
  },
  {
   "cell_type": "code",
   "execution_count": 49,
   "id": "539a16c0",
   "metadata": {},
   "outputs": [
    {
     "data": {
      "text/plain": [
       "0.7068965517241379"
      ]
     },
     "execution_count": 49,
     "metadata": {},
     "output_type": "execute_result"
    }
   ],
   "source": [
    "## Computing the average recall score\n",
    "RF_recall2_avg = np.mean(RF_recall2)\n",
    "RF_recall2_avg"
   ]
  },
  {
   "cell_type": "code",
   "execution_count": 52,
   "id": "bb977075",
   "metadata": {},
   "outputs": [],
   "source": [
    "## Random Forest Model 3\n",
    "\n",
    "for i in range(0, 100):\n",
    "    ## Building the Random Forest model\n",
    "    RF_md3 = RandomForestClassifier(n_estimators = 500, max_depth = 7).fit(X_train, Y_train)\n",
    "\n",
    "    ## Predicting on test\n",
    "    RF_pred3 = RF_md3.predict_proba(X_test)[:, 1]\n",
    "\n",
    "    ## Changing likelihoods to labels\n",
    "    RF_labels3 = np.where(RF_pred3 < 0.1, 0, 1)\n",
    "\n",
    "    ## Computing the recall score\n",
    "    RF_recall3 = recall_score(Y_test, RF_labels3)"
   ]
  },
  {
   "cell_type": "code",
   "execution_count": 53,
   "id": "158611de",
   "metadata": {},
   "outputs": [
    {
     "data": {
      "text/plain": [
       "0.7068965517241379"
      ]
     },
     "execution_count": 53,
     "metadata": {},
     "output_type": "execute_result"
    }
   ],
   "source": [
    "## Computing the average recall score\n",
    "RF_recall3_avg = np.mean(RF_recall3)\n",
    "RF_recall3_avg"
   ]
  },
  {
   "cell_type": "code",
   "execution_count": null,
   "id": "dcd4a4f4",
   "metadata": {},
   "outputs": [],
   "source": [
    "## The best random forest model would be the first, using a maximum depth of 3. The average recall score is 0.75, which would be the best to predict the TenYearCHD variable."
   ]
  }
 ],
 "metadata": {
  "kernelspec": {
   "display_name": "conda_python3",
   "language": "python",
   "name": "conda_python3"
  },
  "language_info": {
   "codemirror_mode": {
    "name": "ipython",
    "version": 3
   },
   "file_extension": ".py",
   "mimetype": "text/x-python",
   "name": "python",
   "nbconvert_exporter": "python",
   "pygments_lexer": "ipython3",
   "version": "3.8.12"
  }
 },
 "nbformat": 4,
 "nbformat_minor": 5
}
