{
 "cells": [
  {
   "cell_type": "markdown",
   "id": "fc279af7",
   "metadata": {},
   "source": [
    "Exercise 1"
   ]
  },
  {
   "cell_type": "code",
   "execution_count": null,
   "id": "f2c7de2c",
   "metadata": {},
   "outputs": [],
   "source": [
    "## No, it is not a good idea to try scaling the input features. "
   ]
  },
  {
   "cell_type": "markdown",
   "id": "8400dd00",
   "metadata": {},
   "source": [
    "Exercise 2"
   ]
  },
  {
   "cell_type": "code",
   "execution_count": null,
   "id": "d491b87e",
   "metadata": {},
   "outputs": [],
   "source": [
    "## Yes, decreasing the max_depth would be a way to try and fit over-fitting."
   ]
  },
  {
   "cell_type": "markdown",
   "id": "61e08852",
   "metadata": {},
   "source": [
    "Exercise 3"
   ]
  },
  {
   "cell_type": "code",
   "execution_count": null,
   "id": "37d3d5f1",
   "metadata": {},
   "outputs": [],
   "source": [
    "## g). All of the above"
   ]
  },
  {
   "cell_type": "markdown",
   "id": "61b64209",
   "metadata": {},
   "source": [
    "Exercise 4"
   ]
  },
  {
   "cell_type": "code",
   "execution_count": null,
   "id": "d31df142",
   "metadata": {},
   "outputs": [],
   "source": [
    "## d). a. and c."
   ]
  },
  {
   "cell_type": "markdown",
   "id": "88a775bf",
   "metadata": {},
   "source": [
    "Exercise 5"
   ]
  },
  {
   "cell_type": "markdown",
   "id": "6e7169bd",
   "metadata": {},
   "source": [
    "Attribute: Outlook\n",
    "-3 values: sunny, overcast, rain = 9-yes; 5-no\n",
    "    Entropy = -(9/14)log2(9/14) - (5/14)log2(5/14) = 0.94\n",
    "Entropy - Sunny\n",
    "2-yes; 3-no\n",
    "    Entropy(Sunny) = -(2/5)log2(2/5) - (3/5)log2(3/5) = 0.971\n",
    "Entropy - Overcast\n",
    "4-yes; 0-no\n",
    "    Entropy(Overcast) = -(4/4)log2(4/4) - (0/4)log2(0/4) = 0\n",
    "Entropy - Rain\n",
    "3-yes; 2-no\n",
    "    Entropy(Rain) = -(3/5)log2(3/5) - (2/5)log2(2/5) = 0.971\n",
    "    \n",
    "0.94 - (5/14) * 0.971 - (4/14) * 0 - (5/14) * 0.971 = 0.2464"
   ]
  },
  {
   "cell_type": "markdown",
   "id": "5005e736",
   "metadata": {},
   "source": [
    "Attribute: Temperature\n",
    "-3 values: Hot, Mild, Cool = 9-yes; 5-no\n",
    "    Entropy = -(9/14)log2(9/14) - (5/14)log2(5/14) = 0.94\n",
    "Entropy - Hot\n",
    "2-yes; 2-no\n",
    "    Entropy(Hot) = -(2/4)log2(2/4) - (2/4)log2(2/4) = 1.0\n",
    "Entropy - Mild\n",
    "4-yes; 2-no\n",
    "    Entropy(Mild) = -(4/6)log2(4/6) - (2/6)log2(2/6) = 0.9183\n",
    "Entropy - Cool\n",
    "3-yes; 1-no\n",
    "    Entropy(Cool) = -(3/4)log2(3/4) - (1/4)log2(1/4) = 0.8113\n",
    "    \n",
    "0.94 - (4/14) * 1.0 - (6/14) * 0.8113 - (4/14) * 0.9183 = 0.0289"
   ]
  },
  {
   "cell_type": "markdown",
   "id": "22c50a66",
   "metadata": {},
   "source": [
    "Attribute: Wind\n",
    "-2 values: True, False = 9-yes; 5-no\n",
    "    Entropy = -(9/14)log2(9/14) - (5/14)log2(5/14) = 0.94\n",
    "Entropy - True\n",
    "3-yes; 3-no\n",
    "    Entropy(True) = -(3/6)log2(3/6) - (3/6)log2(3/6) = 1.0\n",
    "Entropy - False\n",
    "6-yes; 2-no\n",
    "    Entropy(False) = -(6/8)log2(6/8) - (2/8)log2(2/8) = 0.8113\n",
    "\n",
    "0.94 - (6/14) * 1.0 - (8/14) * 0.8113 = 0.0478"
   ]
  },
  {
   "cell_type": "markdown",
   "id": "8f321e46",
   "metadata": {},
   "source": [
    "Attribute: Humidity\n",
    "-2 values: High, Normal = 9-yes; 5-no\n",
    "    Entropy = -(9/14)log2(9/14) - (5/14)log2(5/14) = 0.94\n",
    "Entropy - High\n",
    "3-yes; 4-no\n",
    "    Entropy(High) = -(3/7)log2(3/7) - (4/7)log2(4/7) = 0.9852\n",
    "Entropy - Normal\n",
    "6-yes; 1-no\n",
    "    Entropy(Normal) = -(6/7)log2(6/7) - (1/7)log2(1/7) = 0.5916\n",
    "\n",
    "0.94 - (7/14) * 0.9852 - (7/14) * 0.5916 = 0.1516"
   ]
  },
  {
   "cell_type": "code",
   "execution_count": null,
   "id": "10a4c483",
   "metadata": {},
   "outputs": [],
   "source": [
    "## The highest information gain would be the Outlook attribute. With 0.2646."
   ]
  },
  {
   "cell_type": "markdown",
   "id": "64c308e1",
   "metadata": {},
   "source": [
    "Exercise 6"
   ]
  },
  {
   "cell_type": "code",
   "execution_count": 29,
   "id": "b75e370b",
   "metadata": {},
   "outputs": [
    {
     "data": {
      "text/html": [
       "<div>\n",
       "<style scoped>\n",
       "    .dataframe tbody tr th:only-of-type {\n",
       "        vertical-align: middle;\n",
       "    }\n",
       "\n",
       "    .dataframe tbody tr th {\n",
       "        vertical-align: top;\n",
       "    }\n",
       "\n",
       "    .dataframe thead th {\n",
       "        text-align: right;\n",
       "    }\n",
       "</style>\n",
       "<table border=\"1\" class=\"dataframe\">\n",
       "  <thead>\n",
       "    <tr style=\"text-align: right;\">\n",
       "      <th></th>\n",
       "      <th>male</th>\n",
       "      <th>age</th>\n",
       "      <th>education</th>\n",
       "      <th>currentSmoker</th>\n",
       "      <th>cigsPerDay</th>\n",
       "      <th>BPMeds</th>\n",
       "      <th>prevalentStroke</th>\n",
       "      <th>prevalentHyp</th>\n",
       "      <th>diabetes</th>\n",
       "      <th>totChol</th>\n",
       "      <th>sysBP</th>\n",
       "      <th>diaBP</th>\n",
       "      <th>BMI</th>\n",
       "      <th>heartRate</th>\n",
       "      <th>glucose</th>\n",
       "      <th>TenYearCHD</th>\n",
       "    </tr>\n",
       "  </thead>\n",
       "  <tbody>\n",
       "    <tr>\n",
       "      <th>0</th>\n",
       "      <td>1</td>\n",
       "      <td>39</td>\n",
       "      <td>4.0</td>\n",
       "      <td>0</td>\n",
       "      <td>0.0</td>\n",
       "      <td>0.0</td>\n",
       "      <td>0</td>\n",
       "      <td>0</td>\n",
       "      <td>0</td>\n",
       "      <td>195.0</td>\n",
       "      <td>106.0</td>\n",
       "      <td>70.0</td>\n",
       "      <td>26.97</td>\n",
       "      <td>80.0</td>\n",
       "      <td>77.0</td>\n",
       "      <td>0</td>\n",
       "    </tr>\n",
       "    <tr>\n",
       "      <th>1</th>\n",
       "      <td>0</td>\n",
       "      <td>46</td>\n",
       "      <td>2.0</td>\n",
       "      <td>0</td>\n",
       "      <td>0.0</td>\n",
       "      <td>0.0</td>\n",
       "      <td>0</td>\n",
       "      <td>0</td>\n",
       "      <td>0</td>\n",
       "      <td>250.0</td>\n",
       "      <td>121.0</td>\n",
       "      <td>81.0</td>\n",
       "      <td>28.73</td>\n",
       "      <td>95.0</td>\n",
       "      <td>76.0</td>\n",
       "      <td>0</td>\n",
       "    </tr>\n",
       "    <tr>\n",
       "      <th>2</th>\n",
       "      <td>1</td>\n",
       "      <td>48</td>\n",
       "      <td>1.0</td>\n",
       "      <td>1</td>\n",
       "      <td>20.0</td>\n",
       "      <td>0.0</td>\n",
       "      <td>0</td>\n",
       "      <td>0</td>\n",
       "      <td>0</td>\n",
       "      <td>245.0</td>\n",
       "      <td>127.5</td>\n",
       "      <td>80.0</td>\n",
       "      <td>25.34</td>\n",
       "      <td>75.0</td>\n",
       "      <td>70.0</td>\n",
       "      <td>0</td>\n",
       "    </tr>\n",
       "    <tr>\n",
       "      <th>3</th>\n",
       "      <td>0</td>\n",
       "      <td>61</td>\n",
       "      <td>3.0</td>\n",
       "      <td>1</td>\n",
       "      <td>30.0</td>\n",
       "      <td>0.0</td>\n",
       "      <td>0</td>\n",
       "      <td>1</td>\n",
       "      <td>0</td>\n",
       "      <td>225.0</td>\n",
       "      <td>150.0</td>\n",
       "      <td>95.0</td>\n",
       "      <td>28.58</td>\n",
       "      <td>65.0</td>\n",
       "      <td>103.0</td>\n",
       "      <td>1</td>\n",
       "    </tr>\n",
       "    <tr>\n",
       "      <th>4</th>\n",
       "      <td>0</td>\n",
       "      <td>46</td>\n",
       "      <td>3.0</td>\n",
       "      <td>1</td>\n",
       "      <td>23.0</td>\n",
       "      <td>0.0</td>\n",
       "      <td>0</td>\n",
       "      <td>0</td>\n",
       "      <td>0</td>\n",
       "      <td>285.0</td>\n",
       "      <td>130.0</td>\n",
       "      <td>84.0</td>\n",
       "      <td>23.10</td>\n",
       "      <td>85.0</td>\n",
       "      <td>85.0</td>\n",
       "      <td>0</td>\n",
       "    </tr>\n",
       "  </tbody>\n",
       "</table>\n",
       "</div>"
      ],
      "text/plain": [
       "   male  age  education  currentSmoker  cigsPerDay  BPMeds  prevalentStroke  \\\n",
       "0     1   39        4.0              0         0.0     0.0                0   \n",
       "1     0   46        2.0              0         0.0     0.0                0   \n",
       "2     1   48        1.0              1        20.0     0.0                0   \n",
       "3     0   61        3.0              1        30.0     0.0                0   \n",
       "4     0   46        3.0              1        23.0     0.0                0   \n",
       "\n",
       "   prevalentHyp  diabetes  totChol  sysBP  diaBP    BMI  heartRate  glucose  \\\n",
       "0             0         0    195.0  106.0   70.0  26.97       80.0     77.0   \n",
       "1             0         0    250.0  121.0   81.0  28.73       95.0     76.0   \n",
       "2             0         0    245.0  127.5   80.0  25.34       75.0     70.0   \n",
       "3             1         0    225.0  150.0   95.0  28.58       65.0    103.0   \n",
       "4             0         0    285.0  130.0   84.0  23.10       85.0     85.0   \n",
       "\n",
       "   TenYearCHD  \n",
       "0           0  \n",
       "1           0  \n",
       "2           0  \n",
       "3           1  \n",
       "4           0  "
      ]
     },
     "execution_count": 29,
     "metadata": {},
     "output_type": "execute_result"
    }
   ],
   "source": [
    "import boto3\n",
    "import pandas as pd; pd.set_option('display.max_columns', 100)\n",
    "import numpy as np\n",
    "\n",
    "from sklearn.model_selection import train_test_split\n",
    "from sklearn.metrics import recall_score\n",
    "from sklearn.ensemble import RandomForestClassifier\n",
    "\n",
    "\n",
    "## Defining the s3 bucket\n",
    "s3 = boto3.resource('s3')\n",
    "bucket_name = 'mckayla-data-445-bucket'\n",
    "bucket = s3.Bucket(bucket_name)\n",
    "\n",
    "## Defining the file to read from s3 bucket\n",
    "file_key = 'framingham.csv'\n",
    "\n",
    "bucket_object = bucket.Object(file_key)\n",
    "file_object = bucket_object.get()\n",
    "file_content_stream = file_object.get('Body')\n",
    "\n",
    "##Reading the csv file\n",
    "heart = pd.read_csv(file_content_stream)\n",
    "heart.head()"
   ]
  },
  {
   "cell_type": "code",
   "execution_count": 30,
   "id": "f8d3fc5c",
   "metadata": {},
   "outputs": [],
   "source": [
    "## Removing the observations with N/As\n",
    "heart = heart.dropna()"
   ]
  },
  {
   "cell_type": "code",
   "execution_count": 37,
   "id": "c0703c69",
   "metadata": {},
   "outputs": [
    {
     "name": "stderr",
     "output_type": "stream",
     "text": [
      "/home/ec2-user/anaconda3/envs/python3/lib/python3.8/site-packages/numpy/core/fromnumeric.py:3332: FutureWarning: Dropping of nuisance columns in DataFrame reductions (with 'numeric_only=None') is deprecated; in a future version this will raise TypeError.  Select only valid columns before calling the reduction.\n",
      "  return mean(axis=axis, dtype=dtype, out=out, **kwargs)\n"
     ]
    },
    {
     "data": {
      "text/html": [
       "<div>\n",
       "<style scoped>\n",
       "    .dataframe tbody tr th:only-of-type {\n",
       "        vertical-align: middle;\n",
       "    }\n",
       "\n",
       "    .dataframe tbody tr th {\n",
       "        vertical-align: top;\n",
       "    }\n",
       "\n",
       "    .dataframe thead th {\n",
       "        text-align: right;\n",
       "    }\n",
       "</style>\n",
       "<table border=\"1\" class=\"dataframe\">\n",
       "  <thead>\n",
       "    <tr style=\"text-align: right;\">\n",
       "      <th></th>\n",
       "      <th>Feature</th>\n",
       "      <th>Importance</th>\n",
       "    </tr>\n",
       "  </thead>\n",
       "  <tbody>\n",
       "    <tr>\n",
       "      <th>1</th>\n",
       "      <td>age</td>\n",
       "      <td>0.194505</td>\n",
       "    </tr>\n",
       "    <tr>\n",
       "      <th>10</th>\n",
       "      <td>sysBP</td>\n",
       "      <td>0.187530</td>\n",
       "    </tr>\n",
       "    <tr>\n",
       "      <th>14</th>\n",
       "      <td>glucose</td>\n",
       "      <td>0.118696</td>\n",
       "    </tr>\n",
       "    <tr>\n",
       "      <th>11</th>\n",
       "      <td>diaBP</td>\n",
       "      <td>0.111127</td>\n",
       "    </tr>\n",
       "    <tr>\n",
       "      <th>9</th>\n",
       "      <td>totChol</td>\n",
       "      <td>0.067863</td>\n",
       "    </tr>\n",
       "    <tr>\n",
       "      <th>12</th>\n",
       "      <td>BMI</td>\n",
       "      <td>0.067631</td>\n",
       "    </tr>\n",
       "    <tr>\n",
       "      <th>7</th>\n",
       "      <td>prevalentHyp</td>\n",
       "      <td>0.065511</td>\n",
       "    </tr>\n",
       "    <tr>\n",
       "      <th>13</th>\n",
       "      <td>heartRate</td>\n",
       "      <td>0.046037</td>\n",
       "    </tr>\n",
       "    <tr>\n",
       "      <th>0</th>\n",
       "      <td>male</td>\n",
       "      <td>0.036518</td>\n",
       "    </tr>\n",
       "    <tr>\n",
       "      <th>4</th>\n",
       "      <td>cigsPerDay</td>\n",
       "      <td>0.035098</td>\n",
       "    </tr>\n",
       "    <tr>\n",
       "      <th>2</th>\n",
       "      <td>education</td>\n",
       "      <td>0.023615</td>\n",
       "    </tr>\n",
       "    <tr>\n",
       "      <th>5</th>\n",
       "      <td>BPMeds</td>\n",
       "      <td>0.016168</td>\n",
       "    </tr>\n",
       "    <tr>\n",
       "      <th>8</th>\n",
       "      <td>diabetes</td>\n",
       "      <td>0.014046</td>\n",
       "    </tr>\n",
       "    <tr>\n",
       "      <th>3</th>\n",
       "      <td>currentSmoker</td>\n",
       "      <td>0.008591</td>\n",
       "    </tr>\n",
       "    <tr>\n",
       "      <th>6</th>\n",
       "      <td>prevalentStroke</td>\n",
       "      <td>0.007065</td>\n",
       "    </tr>\n",
       "  </tbody>\n",
       "</table>\n",
       "</div>"
      ],
      "text/plain": [
       "            Feature  Importance\n",
       "1               age    0.194505\n",
       "10            sysBP    0.187530\n",
       "14          glucose    0.118696\n",
       "11            diaBP    0.111127\n",
       "9           totChol    0.067863\n",
       "12              BMI    0.067631\n",
       "7      prevalentHyp    0.065511\n",
       "13        heartRate    0.046037\n",
       "0              male    0.036518\n",
       "4        cigsPerDay    0.035098\n",
       "2         education    0.023615\n",
       "5            BPMeds    0.016168\n",
       "8          diabetes    0.014046\n",
       "3     currentSmoker    0.008591\n",
       "6   prevalentStroke    0.007065"
      ]
     },
     "execution_count": 37,
     "metadata": {},
     "output_type": "execute_result"
    }
   ],
   "source": [
    "## Defining the input and target variables\n",
    "X = heart[['male','age', 'education','currentSmoker', 'cigsPerDay', 'BPMeds', 'prevalentStroke', 'prevalentHyp', 'diabetes','totChol', 'sysBP', 'diaBP','BMI','heartRate', 'glucose']]\n",
    "Y = heart['TenYearCHD']\n",
    "\n",
    "for i in range(0, 100):\n",
    "    ## Splitting the data\n",
    "    X_train, X_test, Y_train, Y_test = train_test_split(X, Y, test_size = 0.2)\n",
    "\n",
    "    ## Building the random forest model\n",
    "    RF_md = RandomForestClassifier(n_estimators = 500, max_depth = 5).fit(X_train, Y_train)\n",
    "\n",
    "    ## Extracting the feature importances\n",
    "    importances= pd.DataFrame({'Feature': X_train.columns, 'Importance': RF_md.feature_importances_}) \n",
    "    importances = importances.sort_values(by = 'Importance', ascending = False)\n",
    "\n",
    "## Average feature importances\n",
    "importances_avg = np.mean(importances)\n",
    "importances_avg = pd.DataFrame({'Feature': X_train.columns, 'Importance': RF_md.feature_importances_})\n",
    "importances_avg = importances_avg.sort_values(by = 'Importance', ascending = False)\n",
    "importances_avg"
   ]
  },
  {
   "cell_type": "code",
   "execution_count": 38,
   "id": "8f6a85e1",
   "metadata": {},
   "outputs": [],
   "source": [
    "## Top 5 variables as predictors\n",
    "## Defining the input and target variables for Random Forest\n",
    "X = heart[['age', 'sysBP', 'diaBP','totChol', 'glucose']]\n",
    "Y = heart['TenYearCHD']\n",
    "\n",
    "## Splitting the data\n",
    "X_train, X_test, Y_train, Y_test = train_test_split(X, Y, test_size = 0.2)"
   ]
  },
  {
   "cell_type": "code",
   "execution_count": 39,
   "id": "d04a69cd",
   "metadata": {},
   "outputs": [
    {
     "name": "stdout",
     "output_type": "stream",
     "text": [
      "The average recall score for the first random forest model is 0.8157894736842105\n"
     ]
    }
   ],
   "source": [
    "## Random Forest Model 1\n",
    "\n",
    "for i in range(0, 100):\n",
    "    ## Building the Random Forest model\n",
    "    RF_md1 = RandomForestClassifier(n_estimators = 500, max_depth = 3).fit(X_train, Y_train)\n",
    "\n",
    "    ## Predicting on test\n",
    "    RF_pred1 = RF_md1.predict_proba(X_test)[:, 1]\n",
    "\n",
    "    ## Changing likelihoods to labels\n",
    "    RF_labels1 = np.where(RF_pred1 < 0.1, 0, 1)\n",
    "\n",
    "    ## Computing the recall score\n",
    "    RF_recall1 = recall_score(Y_test, RF_labels1)\n",
    "\n",
    "## Computing the average recall score\n",
    "RF_recall1_avg = np.mean(RF_recall1)\n",
    "print('The average recall score for the first random forest model is', RF_recall1_avg)"
   ]
  },
  {
   "cell_type": "code",
   "execution_count": 40,
   "id": "5ee0f91e",
   "metadata": {},
   "outputs": [
    {
     "name": "stdout",
     "output_type": "stream",
     "text": [
      "The average recall score for the second random forest model is 0.8157894736842105\n"
     ]
    }
   ],
   "source": [
    "## Random Forest Model 2\n",
    "\n",
    "for i in range(0, 100):\n",
    "    ## Building the Random Forest model\n",
    "    RF_md2 = RandomForestClassifier(n_estimators = 500, max_depth = 5).fit(X_train, Y_train)\n",
    "\n",
    "    ## Predicting on test\n",
    "    RF_pred2 = RF_md2.predict_proba(X_test)[:, 1]\n",
    "\n",
    "    ## Changing likelihoods to labels\n",
    "    RF_labels2 = np.where(RF_pred2 < 0.1, 0, 1)\n",
    "\n",
    "    ## Computing the recall score\n",
    "    RF_recall2 = recall_score(Y_test, RF_labels2)\n",
    "    \n",
    "## Computing the average recall score\n",
    "RF_recall2_avg = np.mean(RF_recall2)\n",
    "print('The average recall score for the second random forest model is', RF_recall2_avg)"
   ]
  },
  {
   "cell_type": "code",
   "execution_count": 41,
   "id": "6b770f8f",
   "metadata": {},
   "outputs": [
    {
     "name": "stdout",
     "output_type": "stream",
     "text": [
      "The average recall score for the third random forest model is 0.8245614035087719\n"
     ]
    }
   ],
   "source": [
    "## Random Forest Model 3\n",
    "\n",
    "for i in range(0, 100):\n",
    "    ## Building the Random Forest model\n",
    "    RF_md3 = RandomForestClassifier(n_estimators = 500, max_depth = 7).fit(X_train, Y_train)\n",
    "\n",
    "    ## Predicting on test\n",
    "    RF_pred3 = RF_md3.predict_proba(X_test)[:, 1]\n",
    "\n",
    "    ## Changing likelihoods to labels\n",
    "    RF_labels3 = np.where(RF_pred3 < 0.1, 0, 1)\n",
    "\n",
    "    ## Computing the recall score\n",
    "    RF_recall3 = recall_score(Y_test, RF_labels3)\n",
    "    \n",
    "## Computing the average recall score\n",
    "RF_recall3_avg = np.mean(RF_recall3)\n",
    "print('The average recall score for the third random forest model is', RF_recall3_avg)"
   ]
  },
  {
   "cell_type": "code",
   "execution_count": null,
   "id": "276129cb",
   "metadata": {},
   "outputs": [],
   "source": [
    "## The best random forest model would be the third, using a maximum depth of 7. The average recall score would be 0.8245617035087719, which would be the best to predict the TenYearCHD variable."
   ]
  }
 ],
 "metadata": {
  "kernelspec": {
   "display_name": "conda_python3",
   "language": "python",
   "name": "conda_python3"
  },
  "language_info": {
   "codemirror_mode": {
    "name": "ipython",
    "version": 3
   },
   "file_extension": ".py",
   "mimetype": "text/x-python",
   "name": "python",
   "nbconvert_exporter": "python",
   "pygments_lexer": "ipython3",
   "version": "3.8.12"
  }
 },
 "nbformat": 4,
 "nbformat_minor": 5
}
